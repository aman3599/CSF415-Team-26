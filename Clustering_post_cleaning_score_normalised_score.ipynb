{
 "cells": [
  {
   "cell_type": "code",
   "execution_count": 2,
   "metadata": {},
   "outputs": [
    {
     "data": {
      "text/plain": [
       "<matplotlib.collections.PathCollection at 0x2118cbbaf48>"
      ]
     },
     "execution_count": 2,
     "metadata": {},
     "output_type": "execute_result"
    },
    {
     "data": {
      "image/png": "[encoded data removed]",
      "text/plain": [
       "<Figure size 432x288 with 1 Axes>"
      ]
     },
     "metadata": {
      "needs_background": "light"
     },
     "output_type": "display_data"
    }
   ],
   "source": [
    "from copy import deepcopy\n",
    "import numpy as np\n",
    "import pandas as pd\n",
    "from matplotlib import pyplot as plt\n",
    "data=pd.read_csv('post_cleaning.csv')\n",
    "g1=data['score'].values\n",
    "g2=data['normalised_score'].values\n",
    "Y=np.array(list(zip(g1,g2)))\n",
    "plt.scatter(g1,g2,c='black',s=7)"
   ]
  },
  {
   "cell_type": "code",
   "execution_count": 3,
   "metadata": {},
   "outputs": [],
   "source": [
    "# Euclidean Distance Caculator\n",
    "def dist(a,b,ax=1):\n",
    "    return np.linalg.norm(a-b,axis=ax)"
   ]
  },
  {
   "cell_type": "code",
   "execution_count": 4,
   "metadata": {},
   "outputs": [
    {
     "name": "stdout",
     "output_type": "stream",
     "text": [
      "[[542. 182.]\n",
      " [731. 208.]]\n"
     ]
    }
   ],
   "source": [
    "# Number of clusters\n",
    "k=2\n",
    "# X coordinates of random centroids\n",
    "C_x=np.random.randint(0,np.max(Y)-20,size=k)\n",
    "# Y coordinates of random centroids\n",
    "C_y=np.random.randint(0,np.max(Y)-20,size=k)\n",
    "C=np.array(list(zip(C_x, C_y)),dtype=np.float32)\n",
    "print(C)"
   ]
  },
  {
   "cell_type": "code",
   "execution_count": 5,
   "metadata": {},
   "outputs": [
    {
     "data": {
      "text/plain": [
       "<matplotlib.collections.PathCollection at 0x2118d10dd88>"
      ]
     },
     "execution_count": 5,
     "metadata": {},
     "output_type": "execute_result"
    },
    {
     "data": {
      "image/png": "[encoded data removed]",
      "text/plain": [
       "<Figure size 432x288 with 1 Axes>"
      ]
     },
     "metadata": {
      "needs_background": "light"
     },
     "output_type": "display_data"
    }
   ],
   "source": [
    "# Plotting along with the Centroids\n",
    "plt.scatter(g1,g2,c='#050505',s=7)\n",
    "plt.scatter(C_x,C_y,marker='*',s=100,c='g')"
   ]
  },
  {
   "cell_type": "code",
   "execution_count": 6,
   "metadata": {},
   "outputs": [],
   "source": [
    "# To store the value of centroids when it updates\n",
    "C_old=np.zeros(C.shape)\n",
    "# Cluster Lables(0,1)\n",
    "clusters=np.zeros(len(Y))\n",
    "# Error func. - Distance between new centroids and old centroids\n",
    "error=dist(C,C_old,None)\n",
    "# Loop will run till the error becomes zero\n",
    "while error!=0:\n",
    "    # Assigning each value to its closest cluster\n",
    "    for i in range(len(Y)):\n",
    "        distances=dist(Y[i],C)\n",
    "        cluster=np.argmin(distances)\n",
    "        clusters[i]=cluster\n",
    "    # Storing the old centroid values\n",
    "    C_old=deepcopy(C)\n",
    "    # Finding the new centroids by taking the average value\n",
    "    for i in range(k):\n",
    "        points=[Y[j] for j in range(len(Y)) if clusters[j]==i]\n",
    "        C[i]=np.mean(points,axis=0)\n",
    "    error=dist(C,C_old,None)"
   ]
  },
  {
   "cell_type": "code",
   "execution_count": 7,
   "metadata": {},
   "outputs": [
    {
     "data": {
      "text/plain": [
       "<matplotlib.collections.PathCollection at 0x2118d1b2e88>"
      ]
     },
     "execution_count": 7,
     "metadata": {},
     "output_type": "execute_result"
    },
    {
     "data": {
      "image/png": "[encoded data removed]",
      "text/plain": [
       "<Figure size 432x288 with 1 Axes>"
      ]
     },
     "metadata": {
      "needs_background": "light"
     },
     "output_type": "display_data"
    }
   ],
   "source": [
    "colors=['r','g','b','y','c','m']\n",
    "fig,ax=plt.subplots()\n",
    "for i in range(k):\n",
    "        points = np.array([Y[j] for j in range(len(Y)) if clusters[j]==i])\n",
    "        ax.scatter(points[:,0],points[:,1], s=7,c=colors[i])\n",
    "ax.scatter(C[:,0], C[:,1], marker='*',s=200,c='#050505')"
   ]
  },
  {
   "cell_type": "code",
   "execution_count": null,
   "metadata": {},
   "outputs": [],
   "source": [
    "# From this visualization it is clear that there are 2 clusters with black stars as their centroid"
   ]
  }
 ],
 "metadata": {
  "kernelspec": {
   "display_name": "Python 3",
   "language": "python",
   "name": "python3"
  },
  "language_info": {
   "codemirror_mode": {
    "name": "ipython",
    "version": 3
   },
   "file_extension": ".py",
   "mimetype": "text/x-python",
   "name": "python",
   "nbconvert_exporter": "python",
   "pygments_lexer": "ipython3",
   "version": "3.7.4"
  }
 },
 "nbformat": 4,
 "nbformat_minor": 2
}
