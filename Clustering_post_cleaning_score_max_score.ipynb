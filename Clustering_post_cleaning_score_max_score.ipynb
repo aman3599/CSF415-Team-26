{
 "cells": [
  {
   "cell_type": "code",
   "execution_count": 1,
   "metadata": {},
   "outputs": [
    {
     "data": {
      "text/html": [
       "<div>\n",
       "<style scoped>\n",
       "    .dataframe tbody tr th:only-of-type {\n",
       "        vertical-align: middle;\n",
       "    }\n",
       "\n",
       "    .dataframe tbody tr th {\n",
       "        vertical-align: top;\n",
       "    }\n",
       "\n",
       "    .dataframe thead th {\n",
       "        text-align: right;\n",
       "    }\n",
       "</style>\n",
       "<table border=\"1\" class=\"dataframe\">\n",
       "  <thead>\n",
       "    <tr style=\"text-align: right;\">\n",
       "      <th></th>\n",
       "      <th>Unnamed: 0</th>\n",
       "      <th>Unnamed: 0.1</th>\n",
       "      <th>id</th>\n",
       "      <th>name</th>\n",
       "      <th>survey_year</th>\n",
       "      <th>is_accredited</th>\n",
       "      <th>has_score</th>\n",
       "      <th>accreditation_body</th>\n",
       "      <th>max_score</th>\n",
       "      <th>score</th>\n",
       "      <th>normalised_score</th>\n",
       "    </tr>\n",
       "  </thead>\n",
       "  <tbody>\n",
       "    <tr>\n",
       "      <td>0</td>\n",
       "      <td>0</td>\n",
       "      <td>0</td>\n",
       "      <td>20744</td>\n",
       "      <td>656</td>\n",
       "      <td>2015</td>\n",
       "      <td>1</td>\n",
       "      <td>1</td>\n",
       "      <td>358</td>\n",
       "      <td>4.0</td>\n",
       "      <td>2.660000</td>\n",
       "      <td>0.665039</td>\n",
       "    </tr>\n",
       "    <tr>\n",
       "      <td>1</td>\n",
       "      <td>1</td>\n",
       "      <td>1</td>\n",
       "      <td>29455</td>\n",
       "      <td>1046</td>\n",
       "      <td>2015</td>\n",
       "      <td>1</td>\n",
       "      <td>0</td>\n",
       "      <td>159</td>\n",
       "      <td>1.0</td>\n",
       "      <td>0.680176</td>\n",
       "      <td>0.680176</td>\n",
       "    </tr>\n",
       "    <tr>\n",
       "      <td>2</td>\n",
       "      <td>2</td>\n",
       "      <td>2</td>\n",
       "      <td>33323</td>\n",
       "      <td>1494</td>\n",
       "      <td>2015</td>\n",
       "      <td>1</td>\n",
       "      <td>0</td>\n",
       "      <td>159</td>\n",
       "      <td>1.0</td>\n",
       "      <td>0.680176</td>\n",
       "      <td>0.680176</td>\n",
       "    </tr>\n",
       "    <tr>\n",
       "      <td>3</td>\n",
       "      <td>3</td>\n",
       "      <td>3</td>\n",
       "      <td>18907</td>\n",
       "      <td>3662</td>\n",
       "      <td>2015</td>\n",
       "      <td>1</td>\n",
       "      <td>1</td>\n",
       "      <td>358</td>\n",
       "      <td>4.0</td>\n",
       "      <td>2.020000</td>\n",
       "      <td>0.504883</td>\n",
       "    </tr>\n",
       "    <tr>\n",
       "      <td>4</td>\n",
       "      <td>4</td>\n",
       "      <td>4</td>\n",
       "      <td>32917</td>\n",
       "      <td>2406</td>\n",
       "      <td>2015</td>\n",
       "      <td>1</td>\n",
       "      <td>0</td>\n",
       "      <td>361</td>\n",
       "      <td>1.0</td>\n",
       "      <td>0.680176</td>\n",
       "      <td>0.680176</td>\n",
       "    </tr>\n",
       "  </tbody>\n",
       "</table>\n",
       "</div>"
      ],
      "text/plain": [
       "   Unnamed: 0  Unnamed: 0.1     id  name  survey_year  is_accredited  \\\n",
       "0           0             0  20744   656         2015              1   \n",
       "1           1             1  29455  1046         2015              1   \n",
       "2           2             2  33323  1494         2015              1   \n",
       "3           3             3  18907  3662         2015              1   \n",
       "4           4             4  32917  2406         2015              1   \n",
       "\n",
       "   has_score  accreditation_body  max_score     score  normalised_score  \n",
       "0          1                 358        4.0  2.660000          0.665039  \n",
       "1          0                 159        1.0  0.680176          0.680176  \n",
       "2          0                 159        1.0  0.680176          0.680176  \n",
       "3          1                 358        4.0  2.020000          0.504883  \n",
       "4          0                 361        1.0  0.680176          0.680176  "
      ]
     },
     "execution_count": 1,
     "metadata": {},
     "output_type": "execute_result"
    }
   ],
   "source": [
    "from copy import deepcopy\n",
    "import numpy as np\n",
    "import pandas as pd\n",
    "from matplotlib import pyplot as plt\n",
    "data = pd.read_csv('post_cleaning.csv')\n",
    "data.head()"
   ]
  },
  {
   "cell_type": "code",
   "execution_count": 2,
   "metadata": {},
   "outputs": [
    {
     "data": {
      "text/html": [
       "<div>\n",
       "<style scoped>\n",
       "    .dataframe tbody tr th:only-of-type {\n",
       "        vertical-align: middle;\n",
       "    }\n",
       "\n",
       "    .dataframe tbody tr th {\n",
       "        vertical-align: top;\n",
       "    }\n",
       "\n",
       "    .dataframe thead th {\n",
       "        text-align: right;\n",
       "    }\n",
       "</style>\n",
       "<table border=\"1\" class=\"dataframe\">\n",
       "  <thead>\n",
       "    <tr style=\"text-align: right;\">\n",
       "      <th></th>\n",
       "      <th>Unnamed: 0</th>\n",
       "      <th>Unnamed: 0.1</th>\n",
       "      <th>id</th>\n",
       "      <th>name</th>\n",
       "      <th>survey_year</th>\n",
       "      <th>is_accredited</th>\n",
       "      <th>has_score</th>\n",
       "      <th>accreditation_body</th>\n",
       "      <th>max_score</th>\n",
       "      <th>score</th>\n",
       "      <th>normalised_score</th>\n",
       "    </tr>\n",
       "  </thead>\n",
       "  <tbody>\n",
       "    <tr>\n",
       "      <td>count</td>\n",
       "      <td>6584.000000</td>\n",
       "      <td>6584.000000</td>\n",
       "      <td>6584.000000</td>\n",
       "      <td>6584.000000</td>\n",
       "      <td>6584.0</td>\n",
       "      <td>6584.000000</td>\n",
       "      <td>6584.000000</td>\n",
       "      <td>6584.000000</td>\n",
       "      <td>6584.000000</td>\n",
       "      <td>6584.000000</td>\n",
       "      <td>6584.000000</td>\n",
       "    </tr>\n",
       "    <tr>\n",
       "      <td>mean</td>\n",
       "      <td>3291.500000</td>\n",
       "      <td>14025.587029</td>\n",
       "      <td>24691.044654</td>\n",
       "      <td>3071.190462</td>\n",
       "      <td>2015.0</td>\n",
       "      <td>0.999848</td>\n",
       "      <td>0.869077</td>\n",
       "      <td>343.054982</td>\n",
       "      <td>23.890644</td>\n",
       "      <td>16.619780</td>\n",
       "      <td>0.676940</td>\n",
       "    </tr>\n",
       "    <tr>\n",
       "      <td>std</td>\n",
       "      <td>1900.781418</td>\n",
       "      <td>9967.623732</td>\n",
       "      <td>14045.601904</td>\n",
       "      <td>1772.439931</td>\n",
       "      <td>0.0</td>\n",
       "      <td>0.012324</td>\n",
       "      <td>0.337342</td>\n",
       "      <td>80.489128</td>\n",
       "      <td>134.533693</td>\n",
       "      <td>94.482406</td>\n",
       "      <td>0.135451</td>\n",
       "    </tr>\n",
       "    <tr>\n",
       "      <td>min</td>\n",
       "      <td>0.000000</td>\n",
       "      <td>0.000000</td>\n",
       "      <td>15.000000</td>\n",
       "      <td>0.000000</td>\n",
       "      <td>2015.0</td>\n",
       "      <td>0.000000</td>\n",
       "      <td>0.000000</td>\n",
       "      <td>0.000000</td>\n",
       "      <td>0.000000</td>\n",
       "      <td>0.000000</td>\n",
       "      <td>0.000000</td>\n",
       "    </tr>\n",
       "    <tr>\n",
       "      <td>25%</td>\n",
       "      <td>1645.750000</td>\n",
       "      <td>1645.750000</td>\n",
       "      <td>11960.750000</td>\n",
       "      <td>1521.750000</td>\n",
       "      <td>2015.0</td>\n",
       "      <td>1.000000</td>\n",
       "      <td>1.000000</td>\n",
       "      <td>358.000000</td>\n",
       "      <td>4.000000</td>\n",
       "      <td>2.100000</td>\n",
       "      <td>0.600098</td>\n",
       "    </tr>\n",
       "    <tr>\n",
       "      <td>50%</td>\n",
       "      <td>3291.500000</td>\n",
       "      <td>10525.500000</td>\n",
       "      <td>22932.000000</td>\n",
       "      <td>3081.500000</td>\n",
       "      <td>2015.0</td>\n",
       "      <td>1.000000</td>\n",
       "      <td>1.000000</td>\n",
       "      <td>358.000000</td>\n",
       "      <td>4.000000</td>\n",
       "      <td>2.610000</td>\n",
       "      <td>0.680176</td>\n",
       "    </tr>\n",
       "    <tr>\n",
       "      <td>75%</td>\n",
       "      <td>4937.250000</td>\n",
       "      <td>19376.250000</td>\n",
       "      <td>36364.000000</td>\n",
       "      <td>4618.250000</td>\n",
       "      <td>2015.0</td>\n",
       "      <td>1.000000</td>\n",
       "      <td>1.000000</td>\n",
       "      <td>358.000000</td>\n",
       "      <td>4.000000</td>\n",
       "      <td>3.040000</td>\n",
       "      <td>0.752441</td>\n",
       "    </tr>\n",
       "    <tr>\n",
       "      <td>max</td>\n",
       "      <td>6583.000000</td>\n",
       "      <td>28303.000000</td>\n",
       "      <td>55559.000000</td>\n",
       "      <td>6127.000000</td>\n",
       "      <td>2015.0</td>\n",
       "      <td>1.000000</td>\n",
       "      <td>1.000000</td>\n",
       "      <td>619.000000</td>\n",
       "      <td>999.000000</td>\n",
       "      <td>970.000000</td>\n",
       "      <td>1.000000</td>\n",
       "    </tr>\n",
       "  </tbody>\n",
       "</table>\n",
       "</div>"
      ],
      "text/plain": [
       "        Unnamed: 0  Unnamed: 0.1            id         name  survey_year  \\\n",
       "count  6584.000000   6584.000000   6584.000000  6584.000000       6584.0   \n",
       "mean   3291.500000  14025.587029  24691.044654  3071.190462       2015.0   \n",
       "std    1900.781418   9967.623732  14045.601904  1772.439931          0.0   \n",
       "min       0.000000      0.000000     15.000000     0.000000       2015.0   \n",
       "25%    1645.750000   1645.750000  11960.750000  1521.750000       2015.0   \n",
       "50%    3291.500000  10525.500000  22932.000000  3081.500000       2015.0   \n",
       "75%    4937.250000  19376.250000  36364.000000  4618.250000       2015.0   \n",
       "max    6583.000000  28303.000000  55559.000000  6127.000000       2015.0   \n",
       "\n",
       "       is_accredited    has_score  accreditation_body    max_score  \\\n",
       "count    6584.000000  6584.000000         6584.000000  6584.000000   \n",
       "mean        0.999848     0.869077          343.054982    23.890644   \n",
       "std         0.012324     0.337342           80.489128   134.533693   \n",
       "min         0.000000     0.000000            0.000000     0.000000   \n",
       "25%         1.000000     1.000000          358.000000     4.000000   \n",
       "50%         1.000000     1.000000          358.000000     4.000000   \n",
       "75%         1.000000     1.000000          358.000000     4.000000   \n",
       "max         1.000000     1.000000          619.000000   999.000000   \n",
       "\n",
       "             score  normalised_score  \n",
       "count  6584.000000       6584.000000  \n",
       "mean     16.619780          0.676940  \n",
       "std      94.482406          0.135451  \n",
       "min       0.000000          0.000000  \n",
       "25%       2.100000          0.600098  \n",
       "50%       2.610000          0.680176  \n",
       "75%       3.040000          0.752441  \n",
       "max     970.000000          1.000000  "
      ]
     },
     "execution_count": 2,
     "metadata": {},
     "output_type": "execute_result"
    }
   ],
   "source": [
    "data.describe()"
   ]
  },
  {
   "cell_type": "code",
   "execution_count": 3,
   "metadata": {},
   "outputs": [
    {
     "data": {
      "text/plain": [
       "<matplotlib.collections.PathCollection at 0x24d276c1e88>"
      ]
     },
     "execution_count": 3,
     "metadata": {},
     "output_type": "execute_result"
    },
    {
     "data": {
      "image/png": "[encoded data removed]",
      "text/plain": [
       "<Figure size 432x288 with 1 Axes>"
      ]
     },
     "metadata": {
      "needs_background": "light"
     },
     "output_type": "display_data"
    }
   ],
   "source": [
    "# Getting the values and plotting it\n",
    "f1=data['max_score'].values\n",
    "f2=data['score'].values\n",
    "X=np.array(list(zip(f1,f2)))\n",
    "plt.scatter(f1,f2,c='black',s=7)"
   ]
  },
  {
   "cell_type": "code",
   "execution_count": 4,
   "metadata": {},
   "outputs": [],
   "source": [
    "# Euclidean Distance Caculator\n",
    "def dist(a,b,ax=1):\n",
    "    return np.linalg.norm(a-b,axis=ax)"
   ]
  },
  {
   "cell_type": "code",
   "execution_count": 5,
   "metadata": {},
   "outputs": [
    {
     "name": "stdout",
     "output_type": "stream",
     "text": [
      "[[434. 594.]\n",
      " [182. 225.]\n",
      " [729. 889.]]\n"
     ]
    }
   ],
   "source": [
    "# Number of clusters\n",
    "k=3\n",
    "# X coordinates of random centroids\n",
    "C_x=np.random.randint(0,np.max(X)-20,size=k)\n",
    "# Y coordinates of random centroids\n",
    "C_y=np.random.randint(0,np.max(X)-20,size=k)\n",
    "C=np.array(list(zip(C_x, C_y)),dtype=np.float32)\n",
    "print(C)"
   ]
  },
  {
   "cell_type": "code",
   "execution_count": 6,
   "metadata": {},
   "outputs": [
    {
     "data": {
      "text/plain": [
       "<matplotlib.collections.PathCollection at 0x24d27a14dc8>"
      ]
     },
     "execution_count": 6,
     "metadata": {},
     "output_type": "execute_result"
    },
    {
     "data": {
      "image/png": "[encoded data removed]",
      "text/plain": [
       "<Figure size 432x288 with 1 Axes>"
      ]
     },
     "metadata": {
      "needs_background": "light"
     },
     "output_type": "display_data"
    }
   ],
   "source": [
    "# Plotting along with the Centroids\n",
    "plt.scatter(f1,f2,c='#050505',s=7)\n",
    "plt.scatter(C_x,C_y,marker='*',s=100,c='g')"
   ]
  },
  {
   "cell_type": "code",
   "execution_count": 7,
   "metadata": {},
   "outputs": [],
   "source": [
    "# To store the value of centroids when it updates\n",
    "C_old=np.zeros(C.shape)\n",
    "# Cluster Lables(0,1,2)\n",
    "clusters=np.zeros(len(X))\n",
    "# Error func. - Distance between new centroids and old centroids\n",
    "error=dist(C,C_old,None)\n",
    "# Loop will run till the error becomes zero\n",
    "while error!=0:\n",
    "    # Assigning each value to its closest cluster\n",
    "    for i in range(len(X)):\n",
    "        distances=dist(X[i],C)\n",
    "        cluster=np.argmin(distances)\n",
    "        clusters[i]=cluster\n",
    "    # Storing the old centroid values\n",
    "    C_old=deepcopy(C)\n",
    "    # Finding the new centroids by taking the average value\n",
    "    for i in range(k):\n",
    "        points=[X[j] for j in range(len(X)) if clusters[j]==i]\n",
    "        C[i]=np.mean(points,axis=0)\n",
    "    error=dist(C,C_old,None)"
   ]
  },
  {
   "cell_type": "code",
   "execution_count": 8,
   "metadata": {},
   "outputs": [
    {
     "data": {
      "text/plain": [
       "<matplotlib.collections.PathCollection at 0x24d27a87488>"
      ]
     },
     "execution_count": 8,
     "metadata": {},
     "output_type": "execute_result"
    },
    {
     "data": {
      "image/png": "[encoded data removed]",
      "text/plain": [
       "<Figure size 432x288 with 1 Axes>"
      ]
     },
     "metadata": {
      "needs_background": "light"
     },
     "output_type": "display_data"
    }
   ],
   "source": [
    "colors=['r','g','b','y','c','m']\n",
    "fig,ax=plt.subplots()\n",
    "for i in range(k):\n",
    "        points = np.array([X[j] for j in range(len(X)) if clusters[j]==i])\n",
    "        ax.scatter(points[:,0],points[:,1], s=7,c=colors[i])\n",
    "ax.scatter(C[:, 0], C[:, 1], marker='*',s=200,c='#050505')"
   ]
  },
  {
   "cell_type": "code",
   "execution_count": 1,
   "metadata": {},
   "outputs": [],
   "source": [
    "# From this visualization it is clear that there are 3 clusters with black stars as their centroid"
   ]
  },
  {
   "cell_type": "code",
   "execution_count": null,
   "metadata": {},
   "outputs": [],
   "source": []
  },
  {
   "cell_type": "code",
   "execution_count": null,
   "metadata": {},
   "outputs": [],
   "source": []
  },
  {
   "cell_type": "code",
   "execution_count": null,
   "metadata": {},
   "outputs": [],
   "source": []
  },
  {
   "cell_type": "code",
   "execution_count": null,
   "metadata": {},
   "outputs": [],
   "source": []
  },
  {
   "cell_type": "code",
   "execution_count": null,
   "metadata": {},
   "outputs": [],
   "source": []
  },
  {
   "cell_type": "code",
   "execution_count": null,
   "metadata": {},
   "outputs": [],
   "source": []
  }
 ],
 "metadata": {
  "kernelspec": {
   "display_name": "Python 3",
   "language": "python",
   "name": "python3"
  },
  "language_info": {
   "codemirror_mode": {
    "name": "ipython",
    "version": 3
   },
   "file_extension": ".py",
   "mimetype": "text/x-python",
   "name": "python",
   "nbconvert_exporter": "python",
   "pygments_lexer": "ipython3",
   "version": "3.7.4"
  }
 },
 "nbformat": 4,
 "nbformat_minor": 2
}
